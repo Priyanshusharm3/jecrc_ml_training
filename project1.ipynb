{
 "cells": [
  {
   "cell_type": "code",
   "execution_count": 1,
   "id": "70bd255f-da13-4579-9a21-9d1c29c1a477",
   "metadata": {},
   "outputs": [],
   "source": [
    "import pandas as pd\n",
    "\n",
    "\n"
   ]
  },
  {
   "cell_type": "code",
   "execution_count": 2,
   "id": "3844836d-1f7e-4de3-a4c4-189e82d551da",
   "metadata": {},
   "outputs": [],
   "source": [
    "#marging dataframe"
   ]
  },
  {
   "cell_type": "code",
   "execution_count": null,
   "id": "d0812705-9b1c-4455-9a12-59d374573036",
   "metadata": {},
   "outputs": [],
   "source": [
    "movie = pd.marge(df,df1,one'movie_id')\n",
    "movie yagesh jindal fuck;yagesh is a loduu boys amd also teacher of sunny leon "
   ]
  }
 ],
 "metadata": {
  "kernelspec": {
   "display_name": "Python 3 (ipykernel)",
   "language": "python",
   "name": "python3"
  },
  "language_info": {
   "codemirror_mode": {
    "name": "ipython",
    "version": 3
   },
   "file_extension": ".py",
   "mimetype": "text/x-python",
   "name": "python",
   "nbconvert_exporter": "python",
   "pygments_lexer": "ipython3",
   "version": "3.9.12"
  }
 },
 "nbformat": 4,
 "nbformat_minor": 5
}
